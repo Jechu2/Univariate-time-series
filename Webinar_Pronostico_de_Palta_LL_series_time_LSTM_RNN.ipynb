{
  "nbformat": 4,
  "nbformat_minor": 0,
  "metadata": {
    "colab": {
      "name": "Webinar_Pronostico de Palta LL series time LSTM-RNN.ipynb",
      "provenance": [],
      "collapsed_sections": [],
      "authorship_tag": "ABX9TyNW/U+MkzGeQ7rvltbmS70t",
      "include_colab_link": true
    },
    "kernelspec": {
      "name": "python3",
      "display_name": "Python 3"
    },
    "accelerator": "GPU"
  },
  "cells": [
    {
      "cell_type": "markdown",
      "metadata": {
        "id": "view-in-github",
        "colab_type": "text"
      },
      "source": [
        "<a href=\"https://colab.research.google.com/github/Jechu2/Univariate-time-series/blob/main/Webinar_Pronostico_de_Palta_LL_series_time_LSTM_RNN.ipynb\" target=\"_parent\"><img src=\"https://colab.research.google.com/assets/colab-badge.svg\" alt=\"Open In Colab\"/></a>"
      ]
    },
    {
      "cell_type": "markdown",
      "metadata": {
        "id": "h6WYXNjiozso"
      },
      "source": [
        "RNN-LSTM para pronóstico Usando el Método de la Ventana deslizante"
      ]
    },
    {
      "cell_type": "code",
      "metadata": {
        "id": "AX_fttFhsizJ",
        "colab": {
          "base_uri": "https://localhost:8080/"
        },
        "outputId": "14ee0b52-6d88-4ce7-9248-6595a51b2f7c"
      },
      "source": [
        "%tensorflow_version 1.x"
      ],
      "execution_count": 1,
      "outputs": [
        {
          "output_type": "stream",
          "text": [
            "TensorFlow 1.x selected.\n"
          ],
          "name": "stdout"
        }
      ]
    },
    {
      "cell_type": "code",
      "metadata": {
        "id": "7ogW3Yjroy2_",
        "colab": {
          "base_uri": "https://localhost:8080/"
        },
        "outputId": "8e6d9c4e-9619-430f-a057-018ec243cb52"
      },
      "source": [
        "# RNN-LSTM para predecir producción de palta en región La Libertad\n",
        "import numpy\n",
        "import matplotlib.pyplot as plt\n",
        "from pandas import read_csv\n",
        "import math\n",
        "from keras.models import Sequential\n",
        "from keras.layers import Dense\n",
        "from keras.layers import LSTM\n",
        "from keras.layers import Dropout\n",
        "from sklearn.preprocessing import MinMaxScaler\n",
        "from sklearn.metrics import mean_squared_error\n",
        "import pandas as pd\n",
        "import numpy as np\n",
        "import tensorflow as tf"
      ],
      "execution_count": 2,
      "outputs": [
        {
          "output_type": "stream",
          "text": [
            "Using TensorFlow backend.\n"
          ],
          "name": "stderr"
        }
      ]
    },
    {
      "cell_type": "code",
      "metadata": {
        "id": "VMwVc920ozEK"
      },
      "source": [
        "# convertimos un array de valores en una matriz de conjuntos de datos\n",
        "def create_dataset(dataset, look_back=1):\n",
        "  dataX, dataY = [], []\n",
        "  for i in range(len(dataset)-look_back-1):\n",
        "    a = dataset[i:(i+look_back), 0]\n",
        "    dataX.append(a)\n",
        "    dataY.append(dataset[i + look_back, 0])\n",
        "  return numpy.array(dataX), numpy.array(dataY)"
      ],
      "execution_count": 3,
      "outputs": []
    },
    {
      "cell_type": "code",
      "metadata": {
        "id": "mFMuBF_xozRF"
      },
      "source": [
        "# semilla aleatoria para reproducibilidad\n",
        "numpy.random.seed(123)\n",
        "np.random.uniform\n",
        "tf.random.set_random_seed(123)"
      ],
      "execution_count": 4,
      "outputs": []
    },
    {
      "cell_type": "markdown",
      "metadata": {
        "id": "Pe6vUjoRrSi2"
      },
      "source": [
        "**The production main crops of the region La Libertad dataset**\n",
        "This dataset contains 9 different features such as production of esparrago, maiz, palta, uva, temperature min, temperature max, average temperature, rainfall and RH. These were collected every month, beginning in 2001. This section of the dataset was prepared by Jesús Obregón"
      ]
    },
    {
      "cell_type": "code",
      "metadata": {
        "id": "pfbQrQucAkmI",
        "colab": {
          "resources": {
            "http://localhost:8080/nbextensions/google.colab/files.js": {
              "data": "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",
              "ok": true,
              "headers": [
                [
                  "content-type",
                  "application/javascript"
                ]
              ],
              "status": 200,
              "status_text": ""
            }
          },
          "base_uri": "https://localhost:8080/",
          "height": 72
        },
        "outputId": "57b66934-77c7-4139-a497-f51ecf862e65"
      },
      "source": [
        "from google.colab import files\n",
        "uploaded = files.upload()\n"
      ],
      "execution_count": 5,
      "outputs": [
        {
          "output_type": "display_data",
          "data": {
            "text/html": [
              "\n",
              "     <input type=\"file\" id=\"files-6109abba-ed53-409e-8daf-20abb209cc0b\" name=\"files[]\" multiple disabled\n",
              "        style=\"border:none\" />\n",
              "     <output id=\"result-6109abba-ed53-409e-8daf-20abb209cc0b\">\n",
              "      Upload widget is only available when the cell has been executed in the\n",
              "      current browser session. Please rerun this cell to enable.\n",
              "      </output>\n",
              "      <script src=\"/nbextensions/google.colab/files.js\"></script> "
            ],
            "text/plain": [
              "<IPython.core.display.HTML object>"
            ]
          },
          "metadata": {
            "tags": []
          }
        },
        {
          "output_type": "stream",
          "text": [
            "Saving Palta.2019.csv to Palta.2019.csv\n"
          ],
          "name": "stdout"
        }
      ]
    },
    {
      "cell_type": "code",
      "metadata": {
        "id": "Xc5NQVoJrz7m"
      },
      "source": [
        "import io"
      ],
      "execution_count": 6,
      "outputs": []
    },
    {
      "cell_type": "code",
      "metadata": {
        "id": "Qn1VRMpUN4wp",
        "colab": {
          "base_uri": "https://localhost:8080/"
        },
        "outputId": "0e1171db-034c-4dbc-c97a-cd54db4e3f7b"
      },
      "source": [
        "%%time\n",
        "dataframe = read_csv('Palta.2019.csv', usecols=[1], engine='python',\n",
        "skipfooter=0)\n",
        "dataset = dataframe.values\n",
        "dataset = dataset.astype('float64')"
      ],
      "execution_count": 7,
      "outputs": [
        {
          "output_type": "stream",
          "text": [
            "CPU times: user 6.5 ms, sys: 625 µs, total: 7.12 ms\n",
            "Wall time: 17.7 ms\n"
          ],
          "name": "stdout"
        }
      ]
    },
    {
      "cell_type": "code",
      "metadata": {
        "id": "8aoO-3Ecr2mu",
        "colab": {
          "base_uri": "https://localhost:8080/",
          "height": 204
        },
        "outputId": "7bbfc5bf-77be-4281-95a3-877f0323c383"
      },
      "source": [
        "dataframe.head()"
      ],
      "execution_count": 8,
      "outputs": [
        {
          "output_type": "execute_result",
          "data": {
            "text/html": [
              "<div>\n",
              "<style scoped>\n",
              "    .dataframe tbody tr th:only-of-type {\n",
              "        vertical-align: middle;\n",
              "    }\n",
              "\n",
              "    .dataframe tbody tr th {\n",
              "        vertical-align: top;\n",
              "    }\n",
              "\n",
              "    .dataframe thead th {\n",
              "        text-align: right;\n",
              "    }\n",
              "</style>\n",
              "<table border=\"1\" class=\"dataframe\">\n",
              "  <thead>\n",
              "    <tr style=\"text-align: right;\">\n",
              "      <th></th>\n",
              "      <th>Palta</th>\n",
              "    </tr>\n",
              "  </thead>\n",
              "  <tbody>\n",
              "    <tr>\n",
              "      <th>0</th>\n",
              "      <td>699.0</td>\n",
              "    </tr>\n",
              "    <tr>\n",
              "      <th>1</th>\n",
              "      <td>792.0</td>\n",
              "    </tr>\n",
              "    <tr>\n",
              "      <th>2</th>\n",
              "      <td>1702.0</td>\n",
              "    </tr>\n",
              "    <tr>\n",
              "      <th>3</th>\n",
              "      <td>1371.0</td>\n",
              "    </tr>\n",
              "    <tr>\n",
              "      <th>4</th>\n",
              "      <td>1507.0</td>\n",
              "    </tr>\n",
              "  </tbody>\n",
              "</table>\n",
              "</div>"
            ],
            "text/plain": [
              "    Palta\n",
              "0   699.0\n",
              "1   792.0\n",
              "2  1702.0\n",
              "3  1371.0\n",
              "4  1507.0"
            ]
          },
          "metadata": {
            "tags": []
          },
          "execution_count": 8
        }
      ]
    },
    {
      "cell_type": "code",
      "metadata": {
        "id": "qhf4zQbqr2zE",
        "colab": {
          "base_uri": "https://localhost:8080/",
          "height": 282
        },
        "outputId": "11c12643-3f59-4fa7-bead-58007aa51e93"
      },
      "source": [
        "dataframe.plot()"
      ],
      "execution_count": 9,
      "outputs": [
        {
          "output_type": "execute_result",
          "data": {
            "text/plain": [
              "<matplotlib.axes._subplots.AxesSubplot at 0x7f70342c8ef0>"
            ]
          },
          "metadata": {
            "tags": []
          },
          "execution_count": 9
        },
        {
          "output_type": "display_data",
          "data": {
            "image/png": "[encoded data removed]",
            "text/plain": [
              "<Figure size 432x288 with 1 Axes>"
            ]
          },
          "metadata": {
            "tags": [],
            "needs_background": "light"
          }
        }
      ]
    },
    {
      "cell_type": "code",
      "metadata": {
        "id": "AXbFjuOgpsuR",
        "colab": {
          "base_uri": "https://localhost:8080/",
          "height": 297
        },
        "outputId": "f2e50e59-21f8-49b1-96c1-82ec37fdb3bb"
      },
      "source": [
        "dataframe.describe()"
      ],
      "execution_count": 10,
      "outputs": [
        {
          "output_type": "execute_result",
          "data": {
            "text/html": [
              "<div>\n",
              "<style scoped>\n",
              "    .dataframe tbody tr th:only-of-type {\n",
              "        vertical-align: middle;\n",
              "    }\n",
              "\n",
              "    .dataframe tbody tr th {\n",
              "        vertical-align: top;\n",
              "    }\n",
              "\n",
              "    .dataframe thead th {\n",
              "        text-align: right;\n",
              "    }\n",
              "</style>\n",
              "<table border=\"1\" class=\"dataframe\">\n",
              "  <thead>\n",
              "    <tr style=\"text-align: right;\">\n",
              "      <th></th>\n",
              "      <th>Palta</th>\n",
              "    </tr>\n",
              "  </thead>\n",
              "  <tbody>\n",
              "    <tr>\n",
              "      <th>count</th>\n",
              "      <td>228.000000</td>\n",
              "    </tr>\n",
              "    <tr>\n",
              "      <th>mean</th>\n",
              "      <td>6224.369706</td>\n",
              "    </tr>\n",
              "    <tr>\n",
              "      <th>std</th>\n",
              "      <td>10602.508569</td>\n",
              "    </tr>\n",
              "    <tr>\n",
              "      <th>min</th>\n",
              "      <td>543.000000</td>\n",
              "    </tr>\n",
              "    <tr>\n",
              "      <th>25%</th>\n",
              "      <td>1152.439250</td>\n",
              "    </tr>\n",
              "    <tr>\n",
              "      <th>50%</th>\n",
              "      <td>2455.920000</td>\n",
              "    </tr>\n",
              "    <tr>\n",
              "      <th>75%</th>\n",
              "      <td>5206.301750</td>\n",
              "    </tr>\n",
              "    <tr>\n",
              "      <th>max</th>\n",
              "      <td>64722.440000</td>\n",
              "    </tr>\n",
              "  </tbody>\n",
              "</table>\n",
              "</div>"
            ],
            "text/plain": [
              "              Palta\n",
              "count    228.000000\n",
              "mean    6224.369706\n",
              "std    10602.508569\n",
              "min      543.000000\n",
              "25%     1152.439250\n",
              "50%     2455.920000\n",
              "75%     5206.301750\n",
              "max    64722.440000"
            ]
          },
          "metadata": {
            "tags": []
          },
          "execution_count": 10
        }
      ]
    },
    {
      "cell_type": "code",
      "metadata": {
        "id": "2SDub1FLteqT"
      },
      "source": [
        "# normalizamos el conjunto de datos\n",
        "scaler = MinMaxScaler(feature_range=(0, 1))\n",
        "dataset = scaler.fit_transform(dataset)"
      ],
      "execution_count": 12,
      "outputs": []
    },
    {
      "cell_type": "code",
      "metadata": {
        "id": "mmLWfuPjtexy"
      },
      "source": [
        "# dividimos entre entranmiento y test\n",
        "train_size = int(len(dataset) * 0.70)\n",
        "test_size = len(dataset) - train_size\n",
        "train, test = dataset[0:train_size,:], dataset[train_size:len(dataset),:]"
      ],
      "execution_count": 13,
      "outputs": []
    },
    {
      "cell_type": "code",
      "metadata": {
        "id": "rOjrXz79te4f",
        "colab": {
          "base_uri": "https://localhost:8080/"
        },
        "outputId": "9a052c77-07ff-4141-867a-ef4916d48570"
      },
      "source": [
        "#dataframe.size\n",
        "train.size, test.size"
      ],
      "execution_count": 14,
      "outputs": [
        {
          "output_type": "execute_result",
          "data": {
            "text/plain": [
              "(159, 69)"
            ]
          },
          "metadata": {
            "tags": []
          },
          "execution_count": 14
        }
      ]
    },
    {
      "cell_type": "code",
      "metadata": {
        "id": "GLm6IKXwte-R"
      },
      "source": [
        "# remodelamos X=t y Y=t+1\n",
        "look_back = 4\n",
        "trainX, trainY = create_dataset(train, look_back)\n",
        "testX, testY = create_dataset(test, look_back)"
      ],
      "execution_count": 15,
      "outputs": []
    },
    {
      "cell_type": "code",
      "metadata": {
        "id": "7L12V-xNtfDG"
      },
      "source": [
        "trainX"
      ],
      "execution_count": null,
      "outputs": []
    },
    {
      "cell_type": "code",
      "metadata": {
        "id": "pN7ME0jduaKO"
      },
      "source": [
        "# remodelamos la entrada para que sea[muestras, pasos de tiempo, características]\n",
        "trainX = numpy.reshape(trainX, (trainX.shape[0], 1, trainX.shape[1]))\n",
        "testX = numpy.reshape(testX, (testX.shape[0], 1, testX.shape[1]))"
      ],
      "execution_count": 17,
      "outputs": []
    },
    {
      "cell_type": "code",
      "metadata": {
        "id": "fG4V36WjuaTe"
      },
      "source": [
        "testX"
      ],
      "execution_count": null,
      "outputs": []
    },
    {
      "cell_type": "code",
      "metadata": {
        "id": "qZAiPeekuab4",
        "colab": {
          "base_uri": "https://localhost:8080/"
        },
        "outputId": "f70a6292-583f-4afa-f42f-ed222ddfcbc1"
      },
      "source": [
        "# creamos la LSTM network\n",
        "model = Sequential()\n",
        "model.add(LSTM(4, input_shape=(1, look_back)))\n",
        "model.add(Dense(1))\n",
        "model.compile(loss='mean_squared_error', optimizer='adam')"
      ],
      "execution_count": 20,
      "outputs": [
        {
          "output_type": "stream",
          "text": [
            "WARNING:tensorflow:From /tensorflow-1.15.2/python3.6/tensorflow_core/python/ops/resource_variable_ops.py:1630: calling BaseResourceVariable.__init__ (from tensorflow.python.ops.resource_variable_ops) with constraint is deprecated and will be removed in a future version.\n",
            "Instructions for updating:\n",
            "If using Keras pass *_constraint arguments to layers.\n"
          ],
          "name": "stdout"
        }
      ]
    },
    {
      "cell_type": "code",
      "metadata": {
        "id": "NmJKMarWuakw",
        "colab": {
          "base_uri": "https://localhost:8080/"
        },
        "outputId": "f81f6c01-a868-4ece-b8e8-aa7b7258b033"
      },
      "source": [
        "model.summary()"
      ],
      "execution_count": 21,
      "outputs": [
        {
          "output_type": "stream",
          "text": [
            "Model: \"sequential_1\"\n",
            "_________________________________________________________________\n",
            "Layer (type)                 Output Shape              Param #   \n",
            "=================================================================\n",
            "lstm_1 (LSTM)                (None, 4)                 144       \n",
            "_________________________________________________________________\n",
            "dense_1 (Dense)              (None, 1)                 5         \n",
            "=================================================================\n",
            "Total params: 149\n",
            "Trainable params: 149\n",
            "Non-trainable params: 0\n",
            "_________________________________________________________________\n"
          ],
          "name": "stdout"
        }
      ]
    },
    {
      "cell_type": "code",
      "metadata": {
        "id": "KbrVgBR3tfH0",
        "colab": {
          "base_uri": "https://localhost:8080/"
        },
        "outputId": "0fabc83c-2505-416e-b911-83375cec34ff"
      },
      "source": [
        "#training model RNN-LSTM\n",
        "%%time\n",
        "model.fit(trainX, trainY, epochs=100, batch_size=1, verbose=2)"
      ],
      "execution_count": 22,
      "outputs": [
        {
          "output_type": "stream",
          "text": [
            "WARNING:tensorflow:From /tensorflow-1.15.2/python3.6/keras/backend/tensorflow_backend.py:422: The name tf.global_variables is deprecated. Please use tf.compat.v1.global_variables instead.\n",
            "\n",
            "Epoch 1/100\n",
            " - 2s - loss: 0.0014\n",
            "Epoch 2/100\n",
            " - 0s - loss: 0.0013\n",
            "Epoch 3/100\n",
            " - 0s - loss: 0.0012\n",
            "Epoch 4/100\n",
            " - 0s - loss: 0.0012\n",
            "Epoch 5/100\n",
            " - 0s - loss: 0.0011\n",
            "Epoch 6/100\n",
            " - 0s - loss: 0.0010\n",
            "Epoch 7/100\n",
            " - 0s - loss: 9.4415e-04\n",
            "Epoch 8/100\n",
            " - 0s - loss: 8.7620e-04\n",
            "Epoch 9/100\n",
            " - 0s - loss: 8.6117e-04\n",
            "Epoch 10/100\n",
            " - 0s - loss: 8.0476e-04\n",
            "Epoch 11/100\n",
            " - 0s - loss: 7.7539e-04\n",
            "Epoch 12/100\n",
            " - 0s - loss: 7.3678e-04\n",
            "Epoch 13/100\n",
            " - 0s - loss: 7.0112e-04\n",
            "Epoch 14/100\n",
            " - 0s - loss: 6.8741e-04\n",
            "Epoch 15/100\n",
            " - 0s - loss: 6.5830e-04\n",
            "Epoch 16/100\n",
            " - 0s - loss: 6.7538e-04\n",
            "Epoch 17/100\n",
            " - 0s - loss: 6.6264e-04\n",
            "Epoch 18/100\n",
            " - 0s - loss: 6.4354e-04\n",
            "Epoch 19/100\n",
            " - 0s - loss: 6.5939e-04\n",
            "Epoch 20/100\n",
            " - 0s - loss: 6.3510e-04\n",
            "Epoch 21/100\n",
            " - 0s - loss: 6.2127e-04\n",
            "Epoch 22/100\n",
            " - 0s - loss: 6.1935e-04\n",
            "Epoch 23/100\n",
            " - 0s - loss: 6.2425e-04\n",
            "Epoch 24/100\n",
            " - 0s - loss: 5.9761e-04\n",
            "Epoch 25/100\n",
            " - 0s - loss: 5.9270e-04\n",
            "Epoch 26/100\n",
            " - 0s - loss: 5.9462e-04\n",
            "Epoch 27/100\n",
            " - 0s - loss: 6.0138e-04\n",
            "Epoch 28/100\n",
            " - 0s - loss: 5.8594e-04\n",
            "Epoch 29/100\n",
            " - 0s - loss: 6.1074e-04\n",
            "Epoch 30/100\n",
            " - 0s - loss: 5.8670e-04\n",
            "Epoch 31/100\n",
            " - 0s - loss: 5.9363e-04\n",
            "Epoch 32/100\n",
            " - 0s - loss: 5.8822e-04\n",
            "Epoch 33/100\n",
            " - 0s - loss: 5.8429e-04\n",
            "Epoch 34/100\n",
            " - 0s - loss: 5.7630e-04\n",
            "Epoch 35/100\n",
            " - 0s - loss: 5.7620e-04\n",
            "Epoch 36/100\n",
            " - 0s - loss: 5.7473e-04\n",
            "Epoch 37/100\n",
            " - 0s - loss: 5.6778e-04\n",
            "Epoch 38/100\n",
            " - 0s - loss: 5.7728e-04\n",
            "Epoch 39/100\n",
            " - 0s - loss: 5.6763e-04\n",
            "Epoch 40/100\n",
            " - 0s - loss: 5.7124e-04\n",
            "Epoch 41/100\n",
            " - 0s - loss: 5.9317e-04\n",
            "Epoch 42/100\n",
            " - 0s - loss: 5.9506e-04\n",
            "Epoch 43/100\n",
            " - 0s - loss: 5.4268e-04\n",
            "Epoch 44/100\n",
            " - 0s - loss: 5.7061e-04\n",
            "Epoch 45/100\n",
            " - 0s - loss: 5.6476e-04\n",
            "Epoch 46/100\n",
            " - 0s - loss: 5.6309e-04\n",
            "Epoch 47/100\n",
            " - 0s - loss: 5.5233e-04\n",
            "Epoch 48/100\n",
            " - 0s - loss: 5.2831e-04\n",
            "Epoch 49/100\n",
            " - 0s - loss: 5.7070e-04\n",
            "Epoch 50/100\n",
            " - 0s - loss: 5.6533e-04\n",
            "Epoch 51/100\n",
            " - 0s - loss: 5.5466e-04\n",
            "Epoch 52/100\n",
            " - 0s - loss: 5.6547e-04\n",
            "Epoch 53/100\n",
            " - 0s - loss: 5.6839e-04\n",
            "Epoch 54/100\n",
            " - 0s - loss: 5.6100e-04\n",
            "Epoch 55/100\n",
            " - 0s - loss: 5.5923e-04\n",
            "Epoch 56/100\n",
            " - 0s - loss: 5.5980e-04\n",
            "Epoch 57/100\n",
            " - 0s - loss: 5.5026e-04\n",
            "Epoch 58/100\n",
            " - 0s - loss: 5.6076e-04\n",
            "Epoch 59/100\n",
            " - 0s - loss: 5.5250e-04\n",
            "Epoch 60/100\n",
            " - 0s - loss: 5.4832e-04\n",
            "Epoch 61/100\n",
            " - 0s - loss: 5.4534e-04\n",
            "Epoch 62/100\n",
            " - 0s - loss: 5.4814e-04\n",
            "Epoch 63/100\n",
            " - 0s - loss: 5.4496e-04\n",
            "Epoch 64/100\n",
            " - 0s - loss: 5.5310e-04\n",
            "Epoch 65/100\n",
            " - 0s - loss: 5.5594e-04\n",
            "Epoch 66/100\n",
            " - 0s - loss: 5.5711e-04\n",
            "Epoch 67/100\n",
            " - 0s - loss: 5.5163e-04\n",
            "Epoch 68/100\n",
            " - 0s - loss: 5.3976e-04\n",
            "Epoch 69/100\n",
            " - 0s - loss: 5.4730e-04\n",
            "Epoch 70/100\n",
            " - 0s - loss: 5.3509e-04\n",
            "Epoch 71/100\n",
            " - 0s - loss: 5.4911e-04\n",
            "Epoch 72/100\n",
            " - 0s - loss: 5.3542e-04\n",
            "Epoch 73/100\n",
            " - 0s - loss: 5.5502e-04\n",
            "Epoch 74/100\n",
            " - 0s - loss: 5.3887e-04\n",
            "Epoch 75/100\n",
            " - 0s - loss: 5.3231e-04\n",
            "Epoch 76/100\n",
            " - 0s - loss: 5.2952e-04\n",
            "Epoch 77/100\n",
            " - 0s - loss: 5.4681e-04\n",
            "Epoch 78/100\n",
            " - 0s - loss: 5.4843e-04\n",
            "Epoch 79/100\n",
            " - 0s - loss: 5.6540e-04\n",
            "Epoch 80/100\n",
            " - 0s - loss: 5.3836e-04\n",
            "Epoch 81/100\n",
            " - 0s - loss: 5.3665e-04\n",
            "Epoch 82/100\n",
            " - 0s - loss: 5.2771e-04\n",
            "Epoch 83/100\n",
            " - 0s - loss: 5.5473e-04\n",
            "Epoch 84/100\n",
            " - 0s - loss: 5.3922e-04\n",
            "Epoch 85/100\n",
            " - 0s - loss: 5.2519e-04\n",
            "Epoch 86/100\n",
            " - 0s - loss: 5.3402e-04\n",
            "Epoch 87/100\n",
            " - 0s - loss: 5.1288e-04\n",
            "Epoch 88/100\n",
            " - 0s - loss: 5.6053e-04\n",
            "Epoch 89/100\n",
            " - 0s - loss: 5.2345e-04\n",
            "Epoch 90/100\n",
            " - 0s - loss: 5.4420e-04\n",
            "Epoch 91/100\n",
            " - 0s - loss: 5.2242e-04\n",
            "Epoch 92/100\n",
            " - 0s - loss: 5.1519e-04\n",
            "Epoch 93/100\n",
            " - 0s - loss: 5.2846e-04\n",
            "Epoch 94/100\n",
            " - 0s - loss: 5.3504e-04\n",
            "Epoch 95/100\n",
            " - 0s - loss: 5.3393e-04\n",
            "Epoch 96/100\n",
            " - 0s - loss: 5.3738e-04\n",
            "Epoch 97/100\n",
            " - 0s - loss: 5.4939e-04\n",
            "Epoch 98/100\n",
            " - 0s - loss: 5.2835e-04\n",
            "Epoch 99/100\n",
            " - 0s - loss: 5.1650e-04\n",
            "Epoch 100/100\n",
            " - 0s - loss: 5.1822e-04\n",
            "CPU times: user 1min 4s, sys: 5.11 s, total: 1min 9s\n",
            "Wall time: 57.6 s\n"
          ],
          "name": "stdout"
        },
        {
          "output_type": "execute_result",
          "data": {
            "text/plain": [
              "<keras.callbacks.callbacks.History at 0x7f7033c596a0>"
            ]
          },
          "metadata": {
            "tags": []
          },
          "execution_count": 22
        }
      ]
    },
    {
      "cell_type": "code",
      "metadata": {
        "id": "bJ4RetNLwO8s"
      },
      "source": [
        "# hacemos las predicciones\n",
        "trainPredict = model.predict(trainX)\n",
        "testPredict = model.predict(testX)"
      ],
      "execution_count": 23,
      "outputs": []
    },
    {
      "cell_type": "code",
      "metadata": {
        "id": "acAOoFcVwPHu"
      },
      "source": [
        "# invertimos las predicciones\n",
        "trainPredict = scaler.inverse_transform(trainPredict)\n",
        "trainY = scaler.inverse_transform([trainY])\n",
        "testPredict = scaler.inverse_transform(testPredict)\n",
        "testY = scaler.inverse_transform([testY])"
      ],
      "execution_count": 24,
      "outputs": []
    },
    {
      "cell_type": "code",
      "metadata": {
        "id": "GOmcMk_-wygB",
        "colab": {
          "base_uri": "https://localhost:8080/"
        },
        "outputId": "6aa0e0be-c9b5-4a46-e860-9528253ac48d"
      },
      "source": [
        "# calculamos el error rms\n",
        "trainScore = math.sqrt(mean_squared_error(trainY[0], trainPredict[:,0]))\n",
        "print('Resultado del entrenamiento: %.2f RMSE' % (trainScore))\n",
        "testScore = math.sqrt(mean_squared_error(testY[0], testPredict[:,0]))\n",
        "print('Resultado del test: %.2f RMSE' % (testScore))"
      ],
      "execution_count": 25,
      "outputs": [
        {
          "output_type": "stream",
          "text": [
            "Resultado del entrenamiento: 0.02 RMSE\n",
            "Resultado del test: 0.16 RMSE\n"
          ],
          "name": "stdout"
        }
      ]
    },
    {
      "cell_type": "code",
      "metadata": {
        "id": "pF_fThHywynw",
        "colab": {
          "base_uri": "https://localhost:8080/"
        },
        "outputId": "a9f4a8be-9329-4b4f-a4d2-47bc090dbf37"
      },
      "source": [
        "testPredict[:,0]"
      ],
      "execution_count": 26,
      "outputs": [
        {
          "output_type": "execute_result",
          "data": {
            "text/plain": [
              "array([0.01833482, 0.07707121, 0.01015952, 0.02221257, 0.02832913,\n",
              "       0.02034634, 0.00718838, 0.01301552, 0.13388672, 0.24299386,\n",
              "       0.3122422 , 0.3393907 , 0.03600127, 0.07935709, 0.02361551,\n",
              "       0.02247906, 0.02652397, 0.01816627, 0.0086822 , 0.01564566,\n",
              "       0.21080565, 0.29076055, 0.5884862 , 0.52387345, 0.03595063,\n",
              "       0.08673309, 0.02259905, 0.02803869, 0.02976306, 0.02666443,\n",
              "       0.00578029, 0.01676985, 0.23706481, 0.31266987, 0.65058196,\n",
              "       0.50787425, 0.04271976, 0.08215835, 0.02603444, 0.0331729 ,\n",
              "       0.03375703, 0.03014736, 0.0045321 , 0.02086319, 0.2371012 ,\n",
              "       0.35586748, 0.6458142 , 0.49580684, 0.04353714, 0.08068409,\n",
              "       0.02668503, 0.03417267, 0.03478888, 0.03119382, 0.00474258,\n",
              "       0.01758278, 0.25747985, 0.34089735, 0.70084023, 0.5162533 ,\n",
              "       0.04334389, 0.05681908, 0.03381038, 0.01825756], dtype=float32)"
            ]
          },
          "metadata": {
            "tags": []
          },
          "execution_count": 26
        }
      ]
    },
    {
      "cell_type": "code",
      "metadata": {
        "id": "IGYodv9txBsR",
        "colab": {
          "base_uri": "https://localhost:8080/"
        },
        "outputId": "d292a7d6-a003-4fcf-bff1-81fc178d2ac1"
      },
      "source": [
        "testY[0]"
      ],
      "execution_count": 27,
      "outputs": [
        {
          "output_type": "execute_result",
          "data": {
            "text/plain": [
              "array([0.08995326, 0.05189791, 0.03483468, 0.03499329, 0.02294816,\n",
              "       0.00487461, 0.00724469, 0.1157193 , 0.23064848, 0.34668096,\n",
              "       0.48899973, 0.15838047, 0.11889895, 0.08167101, 0.04208279,\n",
              "       0.03633329, 0.02411769, 0.00735407, 0.01050149, 0.18099924,\n",
              "       0.2894053 , 0.62842803, 0.86845099, 0.23624123, 0.19103813,\n",
              "       0.11791081, 0.05696933, 0.04911183, 0.03977972, 0.00864777,\n",
              "       0.01256539, 0.20724036, 0.31582809, 0.70711865, 0.92265948,\n",
              "       0.26635226, 0.22022567, 0.13707458, 0.06825784, 0.05858574,\n",
              "       0.04766199, 0.00951269, 0.01759458, 0.21091692, 0.35282841,\n",
              "       0.72331918, 0.94360016, 0.27864001, 0.22603594, 0.14086801,\n",
              "       0.07119521, 0.06101035, 0.04974194, 0.01030938, 0.01454095,\n",
              "       0.22741426, 0.34571586, 0.77695287, 1.        , 0.28522203,\n",
              "       0.09437103, 0.14894567, 0.06883201, 0.06026618])"
            ]
          },
          "metadata": {
            "tags": []
          },
          "execution_count": 27
        }
      ]
    },
    {
      "cell_type": "code",
      "metadata": {
        "id": "1cXM1FCMxB1o",
        "colab": {
          "base_uri": "https://localhost:8080/",
          "height": 204
        },
        "outputId": "6a8c35e9-bc51-4a32-9049-de8c4d42146c"
      },
      "source": [
        "compara = pd.DataFrame(np.array([testY[0], testPredict[:,0]])).transpose()\n",
        "compara.columns = ['test', 'prediccions']\n",
        "compara.tail()"
      ],
      "execution_count": 28,
      "outputs": [
        {
          "output_type": "execute_result",
          "data": {
            "text/html": [
              "<div>\n",
              "<style scoped>\n",
              "    .dataframe tbody tr th:only-of-type {\n",
              "        vertical-align: middle;\n",
              "    }\n",
              "\n",
              "    .dataframe tbody tr th {\n",
              "        vertical-align: top;\n",
              "    }\n",
              "\n",
              "    .dataframe thead th {\n",
              "        text-align: right;\n",
              "    }\n",
              "</style>\n",
              "<table border=\"1\" class=\"dataframe\">\n",
              "  <thead>\n",
              "    <tr style=\"text-align: right;\">\n",
              "      <th></th>\n",
              "      <th>test</th>\n",
              "      <th>prediccions</th>\n",
              "    </tr>\n",
              "  </thead>\n",
              "  <tbody>\n",
              "    <tr>\n",
              "      <th>59</th>\n",
              "      <td>0.285222</td>\n",
              "      <td>0.516253</td>\n",
              "    </tr>\n",
              "    <tr>\n",
              "      <th>60</th>\n",
              "      <td>0.094371</td>\n",
              "      <td>0.043344</td>\n",
              "    </tr>\n",
              "    <tr>\n",
              "      <th>61</th>\n",
              "      <td>0.148946</td>\n",
              "      <td>0.056819</td>\n",
              "    </tr>\n",
              "    <tr>\n",
              "      <th>62</th>\n",
              "      <td>0.068832</td>\n",
              "      <td>0.033810</td>\n",
              "    </tr>\n",
              "    <tr>\n",
              "      <th>63</th>\n",
              "      <td>0.060266</td>\n",
              "      <td>0.018258</td>\n",
              "    </tr>\n",
              "  </tbody>\n",
              "</table>\n",
              "</div>"
            ],
            "text/plain": [
              "        test  prediccions\n",
              "59  0.285222     0.516253\n",
              "60  0.094371     0.043344\n",
              "61  0.148946     0.056819\n",
              "62  0.068832     0.033810\n",
              "63  0.060266     0.018258"
            ]
          },
          "metadata": {
            "tags": []
          },
          "execution_count": 28
        }
      ]
    },
    {
      "cell_type": "code",
      "metadata": {
        "id": "2tGfEOUPyBwS",
        "colab": {
          "base_uri": "https://localhost:8080/",
          "height": 111
        },
        "outputId": "26239240-0adf-4190-f1d6-0d081f088b27"
      },
      "source": [
        "#coeficiente de correlacion\n",
        "compara.corr(method=\"pearson\")"
      ],
      "execution_count": 29,
      "outputs": [
        {
          "output_type": "execute_result",
          "data": {
            "text/html": [
              "<div>\n",
              "<style scoped>\n",
              "    .dataframe tbody tr th:only-of-type {\n",
              "        vertical-align: middle;\n",
              "    }\n",
              "\n",
              "    .dataframe tbody tr th {\n",
              "        vertical-align: top;\n",
              "    }\n",
              "\n",
              "    .dataframe thead th {\n",
              "        text-align: right;\n",
              "    }\n",
              "</style>\n",
              "<table border=\"1\" class=\"dataframe\">\n",
              "  <thead>\n",
              "    <tr style=\"text-align: right;\">\n",
              "      <th></th>\n",
              "      <th>test</th>\n",
              "      <th>prediccions</th>\n",
              "    </tr>\n",
              "  </thead>\n",
              "  <tbody>\n",
              "    <tr>\n",
              "      <th>test</th>\n",
              "      <td>1.000000</td>\n",
              "      <td>0.841389</td>\n",
              "    </tr>\n",
              "    <tr>\n",
              "      <th>prediccions</th>\n",
              "      <td>0.841389</td>\n",
              "      <td>1.000000</td>\n",
              "    </tr>\n",
              "  </tbody>\n",
              "</table>\n",
              "</div>"
            ],
            "text/plain": [
              "                 test  prediccions\n",
              "test         1.000000     0.841389\n",
              "prediccions  0.841389     1.000000"
            ]
          },
          "metadata": {
            "tags": []
          },
          "execution_count": 29
        }
      ]
    },
    {
      "cell_type": "code",
      "metadata": {
        "id": "3o4DpfKvyB4h"
      },
      "source": [
        "# predicciones del entrenamiento de cambio para plotear\n",
        "trainPredictPlot = numpy.empty_like(dataset)\n",
        "trainPredictPlot[:, :] = numpy.nan\n",
        "trainPredictPlot[look_back:len(trainPredict)+look_back, :] = trainPredict"
      ],
      "execution_count": 30,
      "outputs": []
    },
    {
      "cell_type": "code",
      "metadata": {
        "id": "l42_rpTFxCA6"
      },
      "source": [
        "# predicciones del test de cambio para plotear\n",
        "testPredictPlot = numpy.empty_like(dataset)\n",
        "testPredictPlot[:, :] = numpy.nan\n",
        "testPredictPlot[len(trainPredict)+(look_back*2)+1:len(dataset)-1, :] = testPredict"
      ],
      "execution_count": 31,
      "outputs": []
    },
    {
      "cell_type": "code",
      "metadata": {
        "id": "EdoaOKbcydlL",
        "colab": {
          "base_uri": "https://localhost:8080/",
          "height": 282
        },
        "outputId": "d98e2a37-d982-4786-ad2f-dbb4f245f853"
      },
      "source": [
        "# plot baseline and predictions\n",
        "plt.plot(scaler.inverse_transform(dataset))"
      ],
      "execution_count": 32,
      "outputs": [
        {
          "output_type": "execute_result",
          "data": {
            "text/plain": [
              "[<matplotlib.lines.Line2D at 0x7f70201e6b00>]"
            ]
          },
          "metadata": {
            "tags": []
          },
          "execution_count": 32
        },
        {
          "output_type": "display_data",
          "data": {
            "image/png": "[encoded data removed]",
            "text/plain": [
              "<Figure size 432x288 with 1 Axes>"
            ]
          },
          "metadata": {
            "tags": [],
            "needs_background": "light"
          }
        }
      ]
    },
    {
      "cell_type": "code",
      "metadata": {
        "id": "FBwGRkBlydrO",
        "colab": {
          "base_uri": "https://localhost:8080/",
          "height": 298
        },
        "outputId": "37acb562-557d-455b-edaf-47963191ece3"
      },
      "source": [
        "# ploteamos linea base y predicciones\n",
        "plt.plot(trainPredictPlot,'r', linewidth = 2)\n",
        "plt.plot(testPredictPlot,'m', linewidth = 2)\n",
        "plt.legend( ('Predicción datos entramiento', 'Predicción sobre los datos de test'), loc = 'upper left')\n",
        "plt.grid(False)\n",
        "plt.title(\"Producción de palta La Libertad (t) por mes desde 2001 a 2019\", fontsize = 15)\n",
        "plt.xlabel(\"Tiempo (nº meses)\", fontsize = 10)\n",
        "plt.ylabel(\"Toneladas\", fontsize = 10)\n",
        "plt.show()"
      ],
      "execution_count": 33,
      "outputs": [
        {
          "output_type": "display_data",
          "data": {
            "image/png": "[encoded data removed]",
            "text/plain": [
              "<Figure size 432x288 with 1 Axes>"
            ]
          },
          "metadata": {
            "tags": [],
            "needs_background": "light"
          }
        }
      ]
    },
    {
      "cell_type": "code",
      "metadata": {
        "id": "lce_M781ydxc",
        "colab": {
          "base_uri": "https://localhost:8080/",
          "height": 298
        },
        "outputId": "bdb984e0-7b1b-4c07-f01d-c5b0351227eb"
      },
      "source": [
        "# ploteamos linea base y predicciones\n",
        "plt.plot(scaler.inverse_transform(dataset))\n",
        "plt.plot(trainPredictPlot,'r', linewidth = 2)\n",
        "plt.plot(testPredictPlot,'m', linewidth = 2)\n",
        "plt.legend( ('Datos', 'Predicción datos entramiento', 'Predicción sobre los datos de test'), loc = 'upper left')\n",
        "plt.grid(False)\n",
        "plt.title(\"Producción de palta La Libertad (t) por mes desde 2001 a 2019\", fontsize = 15)\n",
        "plt.xlabel(\"Tiempo (nº meses)\", fontsize = 10)\n",
        "plt.ylabel(\"Toneladas\", fontsize = 10)\n",
        "plt.show()"
      ],
      "execution_count": 34,
      "outputs": [
        {
          "output_type": "display_data",
          "data": {
            "image/png": "[encoded data removed]",
            "text/plain": [
              "<Figure size 432x288 with 1 Axes>"
            ]
          },
          "metadata": {
            "tags": [],
            "needs_background": "light"
          }
        }
      ]
    },
    {
      "cell_type": "code",
      "metadata": {
        "id": "0s1ZyAsvyd38",
        "colab": {
          "base_uri": "https://localhost:8080/",
          "height": 265
        },
        "outputId": "e96edfd6-01a9-47e9-f77b-6d2361ca5a57"
      },
      "source": [
        "# ploteamos linea base y predicciones\n",
        "plt.plot(compara['test'], 'r', linewidth = 2)\n",
        "plt.plot(compara['prediccions'],'m', linewidth = 2)\n",
        "plt.legend( ('Test', 'Predicción'), loc = 'upper left')\n",
        "plt.grid(False)\n",
        "plt.show()"
      ],
      "execution_count": 35,
      "outputs": [
        {
          "output_type": "display_data",
          "data": {
            "image/png": "[encoded data removed]",
            "text/plain": [
              "<Figure size 432x288 with 1 Axes>"
            ]
          },
          "metadata": {
            "tags": [],
            "needs_background": "light"
          }
        }
      ]
    }
  ]
}